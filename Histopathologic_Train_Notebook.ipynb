{
  "nbformat": 4,
  "nbformat_minor": 0,
  "metadata": {
    "colab": {
      "name": "Histopathologic Train Notebook.ipynb",
      "version": "0.3.2",
      "provenance": [],
      "collapsed_sections": [],
      "include_colab_link": true
    },
    "kernelspec": {
      "name": "python3",
      "display_name": "Python 3"
    },
    "accelerator": "GPU"
  },
  "cells": [
    {
      "cell_type": "markdown",
      "metadata": {
        "id": "view-in-github",
        "colab_type": "text"
      },
      "source": [
        "<a href=\"https://colab.research.google.com/github/sylvia31096/Histopathologic-Cancer-Detection/blob/master/Histopathologic_Train_Notebook.ipynb\" target=\"_parent\"><img src=\"https://colab.research.google.com/assets/colab-badge.svg\" alt=\"Open In Colab\"/></a>"
      ]
    },
    {
      "cell_type": "markdown",
      "metadata": {
        "id": "d9SlfUwuLebk",
        "colab_type": "text"
      },
      "source": [
        "\n",
        "\n",
        "```\n",
        " Fetching data from Kaggle to upload to Google Colab.\n",
        "```\n",
        "\n"
      ]
    },
    {
      "cell_type": "code",
      "metadata": {
        "colab_type": "code",
        "id": "y0pgtaDL6XnM",
        "colab": {}
      },
      "source": [
        "!pip install -U -q kaggle\n",
        "!mkdir -p ~/.kaggle"
      ],
      "execution_count": 0,
      "outputs": []
    },
    {
      "cell_type": "code",
      "metadata": {
        "colab_type": "code",
        "id": "wd4MNCXs6W49",
        "colab": {}
      },
      "source": [
        "from google.colab import files\n",
        "files.upload()"
      ],
      "execution_count": 0,
      "outputs": []
    },
    {
      "cell_type": "code",
      "metadata": {
        "colab_type": "code",
        "id": "9p1yb6II6Wfq",
        "colab": {}
      },
      "source": [
        "!cp kaggle.json ~/.kaggle/"
      ],
      "execution_count": 0,
      "outputs": []
    },
    {
      "cell_type": "code",
      "metadata": {
        "colab_type": "code",
        "id": "7HiA0imo6WJj",
        "outputId": "f249183a-6e78-4a9d-91e4-68d929e5b4a9",
        "colab": {
          "base_uri": "https://localhost:8080/",
          "height": 263
        }
      },
      "source": [
        "!kaggle competitions download -c histopathologic-cancer-detection"
      ],
      "execution_count": 0,
      "outputs": [
        {
          "output_type": "stream",
          "text": [
            "Warning: Your Kaggle API key is readable by other users on this system! To fix this, you can run 'chmod 600 /root/.kaggle/kaggle.json'\n",
            "Downloading sample_submission.csv.zip to /content\n",
            "\r  0% 0.00/1.33M [00:00<?, ?B/s]\n",
            "100% 1.33M/1.33M [00:00<00:00, 43.4MB/s]\n",
            "Downloading train_labels.csv.zip to /content\n",
            "  0% 0.00/5.10M [00:00<?, ?B/s]\n",
            "100% 5.10M/5.10M [00:00<00:00, 83.8MB/s]\n",
            "Downloading test.zip to /content\n",
            " 98% 1.28G/1.30G [00:08<00:00, 156MB/s]\n",
            "100% 1.30G/1.30G [00:08<00:00, 165MB/s]\n",
            "Downloading train.zip to /content\n",
            "100% 4.98G/4.98G [01:14<00:00, 87.6MB/s]\n",
            "100% 4.98G/4.98G [01:14<00:00, 72.1MB/s]\n"
          ],
          "name": "stdout"
        }
      ]
    },
    {
      "cell_type": "markdown",
      "metadata": {
        "id": "h6tEexvQL9w2",
        "colab_type": "text"
      },
      "source": [
        "Import the required libraries"
      ]
    },
    {
      "cell_type": "code",
      "metadata": {
        "id": "CnMRWCpWZvkH",
        "colab_type": "code",
        "outputId": "821055fe-ace8-4535-ce85-147828ff9d06",
        "colab": {
          "base_uri": "https://localhost:8080/",
          "height": 34
        }
      },
      "source": [
        "import pandas as pd\n",
        "import numpy as np\n",
        "from zipfile import ZipFile\n",
        "from keras import backend as K\n",
        "from keras.preprocessing import image\n",
        "\n",
        "from keras.models import Sequential,load_model\n",
        "from keras.layers import Dense, Conv2D, Flatten,MaxPooling2D\n",
        "import os\n",
        "from keras.utils import to_categorical\n",
        "from sklearn.model_selection import train_test_split"
      ],
      "execution_count": 0,
      "outputs": [
        {
          "output_type": "stream",
          "text": [
            "Using TensorFlow backend.\n"
          ],
          "name": "stderr"
        }
      ]
    },
    {
      "cell_type": "markdown",
      "metadata": {
        "id": "sQ2SBakcMLjL",
        "colab_type": "text"
      },
      "source": [
        "Extract the zip files "
      ]
    },
    {
      "cell_type": "code",
      "metadata": {
        "id": "szOw2xME_EMv",
        "colab_type": "code",
        "colab": {}
      },
      "source": [
        "with ZipFile(\"/content/train.zip\",\"r\") as zip_ref:\n",
        "    zip_ref.extractall(\"content/train\")"
      ],
      "execution_count": 0,
      "outputs": []
    },
    {
      "cell_type": "markdown",
      "metadata": {
        "id": "bovSlRMIMgH4",
        "colab_type": "text"
      },
      "source": [
        "Get the list of file names"
      ]
    },
    {
      "cell_type": "code",
      "metadata": {
        "id": "rCeE-WQ6k61h",
        "colab_type": "code",
        "colab": {}
      },
      "source": [
        "with ZipFile(\"train.zip\", \"r\") as f:\n",
        "   listOfFiles= [name for name in f.namelist()]"
      ],
      "execution_count": 0,
      "outputs": []
    },
    {
      "cell_type": "markdown",
      "metadata": {
        "id": "BxoOz3LFMqnr",
        "colab_type": "text"
      },
      "source": [
        "Join the filenames and the corresponding targets."
      ]
    },
    {
      "cell_type": "code",
      "metadata": {
        "id": "ySv77AsGw0eW",
        "colab_type": "code",
        "colab": {}
      },
      "source": [
        "#get the targets\n",
        "targets = pd.read_csv('train_labels.csv.zip')\n",
        "targets = targets.set_index('id')\n",
        "filenames = pd.DataFrame(listOfFiles,[os.path.splitext(base)[0] for base in listOfFiles])\n",
        "filetarg = pd.concat([filenames, targets], axis=1,join='inner')\n"
      ],
      "execution_count": 0,
      "outputs": []
    },
    {
      "cell_type": "markdown",
      "metadata": {
        "id": "UkvqR7hGM7G-",
        "colab_type": "text"
      },
      "source": [
        "Rename the columns"
      ]
    },
    {
      "cell_type": "code",
      "metadata": {
        "id": "hhNx8kkSD00i",
        "colab_type": "code",
        "colab": {}
      },
      "source": [
        "filetarg.columns= ['path','label']\n"
      ],
      "execution_count": 0,
      "outputs": []
    },
    {
      "cell_type": "markdown",
      "metadata": {
        "id": "gRgMiQRPNE8L",
        "colab_type": "text"
      },
      "source": [
        ""
      ]
    },
    {
      "cell_type": "code",
      "metadata": {
        "id": "2EycOHUI-py8",
        "colab_type": "code",
        "colab": {}
      },
      "source": [
        "filetarg = filetarg.applymap(str)\n"
      ],
      "execution_count": 0,
      "outputs": []
    },
    {
      "cell_type": "markdown",
      "metadata": {
        "id": "ZDuQgRPSNMwD",
        "colab_type": "text"
      },
      "source": [
        "Pass the filetarg dataframe to the ImageDataGenerator for:\n",
        "\n",
        "\n",
        "1.   Passing images to the model in batches\n",
        "2.   Split into validation and training\n",
        "\n"
      ]
    },
    {
      "cell_type": "code",
      "metadata": {
        "id": "0AamFcvYDKg1",
        "colab_type": "code",
        "outputId": "2d0c091a-03ea-43d3-907f-c9a26f5137a6",
        "colab": {
          "base_uri": "https://localhost:8080/",
          "height": 52
        }
      },
      "source": [
        "train_datagen = image.ImageDataGenerator(validation_split=0.2)\n",
        "train_generator = train_datagen.flow_from_dataframe(filetarg, directory='content/train',\n",
        "              x_col='path',\n",
        "              y_col='label',\n",
        "              batch_size=470,\n",
        "              target_size=(96, 96),\n",
        "              subset=\"training\" \n",
        "             )\n",
        "validation_generator = train_datagen.flow_from_dataframe(filetarg, directory='content/train',\n",
        "              x_col='path',\n",
        "              y_col='label',\n",
        "              batch_size=470,\n",
        "              target_size=(96, 96),\n",
        "              subset=\"validation\"                                           \n",
        "             )"
      ],
      "execution_count": 0,
      "outputs": [
        {
          "output_type": "stream",
          "text": [
            "Found 176020 images belonging to 2 classes.\n",
            "Found 44005 images belonging to 2 classes.\n"
          ],
          "name": "stdout"
        }
      ]
    },
    {
      "cell_type": "markdown",
      "metadata": {
        "id": "5UviVrMfN5KF",
        "colab_type": "text"
      },
      "source": [
        "Load the vgg 16 model"
      ]
    },
    {
      "cell_type": "code",
      "metadata": {
        "id": "cnHD5ZviDcaj",
        "colab_type": "code",
        "outputId": "e3427bfe-2835-41ad-926d-ecffa287ea0d",
        "colab": {
          "base_uri": "https://localhost:8080/",
          "height": 124
        }
      },
      "source": [
        "from keras.applications import VGG16\n",
        "#Load the VGG model\n",
        "image_size = 96\n",
        "vgg_conv = VGG16(weights='imagenet', include_top=False, input_shape=(image_size, image_size, 3))\n"
      ],
      "execution_count": 0,
      "outputs": [
        {
          "output_type": "stream",
          "text": [
            "WARNING:tensorflow:From /usr/local/lib/python3.6/dist-packages/tensorflow/python/framework/op_def_library.py:263: colocate_with (from tensorflow.python.framework.ops) is deprecated and will be removed in a future version.\n",
            "Instructions for updating:\n",
            "Colocations handled automatically by placer.\n",
            "Downloading data from https://github.com/fchollet/deep-learning-models/releases/download/v0.1/vgg16_weights_tf_dim_ordering_tf_kernels_notop.h5\n",
            "58892288/58889256 [==============================] - 1s 0us/step\n"
          ],
          "name": "stdout"
        }
      ]
    },
    {
      "cell_type": "markdown",
      "metadata": {
        "id": "r_48AbcJOHhH",
        "colab_type": "text"
      },
      "source": [
        "Create the model"
      ]
    },
    {
      "cell_type": "code",
      "metadata": {
        "id": "QphA-hYkbbmA",
        "colab_type": "code",
        "colab": {}
      },
      "source": [
        "#create model\n",
        "model = Sequential()\n",
        "\n",
        "#add model layers\n",
        "model.add(vgg_conv)\n",
        "model.add(Flatten())\n",
        "model.add(Dense(2, activation='softmax'))"
      ],
      "execution_count": 0,
      "outputs": []
    },
    {
      "cell_type": "markdown",
      "metadata": {
        "id": "UmSJKtGJOX4W",
        "colab_type": "text"
      },
      "source": [
        "Display the model"
      ]
    },
    {
      "cell_type": "code",
      "metadata": {
        "id": "gioBxEytDjwx",
        "colab_type": "code",
        "outputId": "9c8b0b89-217d-4f95-95d4-b61d1bf82dfd",
        "colab": {
          "base_uri": "https://localhost:8080/",
          "height": 243
        }
      },
      "source": [
        "model.summary()"
      ],
      "execution_count": 0,
      "outputs": [
        {
          "output_type": "stream",
          "text": [
            "_________________________________________________________________\n",
            "Layer (type)                 Output Shape              Param #   \n",
            "=================================================================\n",
            "vgg16 (Model)                (None, 3, 3, 512)         14714688  \n",
            "_________________________________________________________________\n",
            "flatten_1 (Flatten)          (None, 4608)              0         \n",
            "_________________________________________________________________\n",
            "dense_1 (Dense)              (None, 2)                 9218      \n",
            "=================================================================\n",
            "Total params: 14,723,906\n",
            "Trainable params: 14,723,906\n",
            "Non-trainable params: 0\n",
            "_________________________________________________________________\n"
          ],
          "name": "stdout"
        }
      ]
    },
    {
      "cell_type": "markdown",
      "metadata": {
        "id": "f9SK7FuyObsJ",
        "colab_type": "text"
      },
      "source": [
        "Optimize the model by defining hyperparameters."
      ]
    },
    {
      "cell_type": "code",
      "metadata": {
        "id": "xpBcEfEPbbpI",
        "colab_type": "code",
        "colab": {}
      },
      "source": [
        "from keras import optimizers\n",
        "#compile model using accuracy to measure model performance\n",
        "adam = optimizers.Adam(lr=0.00004, beta_1=0.9, beta_2=0.999, epsilon=None, decay=0.0, amsgrad=False)\n",
        "model.compile(optimizer=adam, loss='binary_crossentropy', metrics=['accuracy'])\n",
        "\n"
      ],
      "execution_count": 0,
      "outputs": []
    },
    {
      "cell_type": "markdown",
      "metadata": {
        "id": "vfYQrQkOOev1",
        "colab_type": "text"
      },
      "source": [
        "Fit the model with the train data and validate using validation data."
      ]
    },
    {
      "cell_type": "code",
      "metadata": {
        "id": "ch3_IKlMR8sY",
        "colab_type": "code",
        "outputId": "fdb01a0e-3a84-4f12-9f13-d78d38280494",
        "colab": {
          "base_uri": "https://localhost:8080/",
          "height": 211
        }
      },
      "source": [
        "model.fit_generator(\n",
        "    train_generator,\n",
        "    \n",
        "    steps_per_epoch = 450,\n",
        "    validation_data = validation_generator, \n",
        "    validation_steps = 100,\n",
        "    epochs = 3,\n",
        "    verbose=1)"
      ],
      "execution_count": 0,
      "outputs": [
        {
          "output_type": "stream",
          "text": [
            "WARNING:tensorflow:From /usr/local/lib/python3.6/dist-packages/tensorflow/python/ops/math_ops.py:3066: to_int32 (from tensorflow.python.ops.math_ops) is deprecated and will be removed in a future version.\n",
            "Instructions for updating:\n",
            "Use tf.cast instead.\n",
            "Epoch 1/3\n",
            "450/450 [==============================] - 658s 1s/step - loss: 0.3248 - acc: 0.8829 - val_loss: 0.2035 - val_acc: 0.9204\n",
            "Epoch 2/3\n",
            "450/450 [==============================] - 621s 1s/step - loss: 0.1818 - acc: 0.9297 - val_loss: 0.1760 - val_acc: 0.9300\n",
            "Epoch 3/3\n",
            "450/450 [==============================] - 622s 1s/step - loss: 0.1435 - acc: 0.9462 - val_loss: 0.1781 - val_acc: 0.9355\n"
          ],
          "name": "stdout"
        },
        {
          "output_type": "execute_result",
          "data": {
            "text/plain": [
              "<keras.callbacks.History at 0x7fe4f581bd68>"
            ]
          },
          "metadata": {
            "tags": []
          },
          "execution_count": 16
        }
      ]
    },
    {
      "cell_type": "markdown",
      "metadata": {
        "id": "S9cpk3rLO9sh",
        "colab_type": "text"
      },
      "source": [
        "Save trained model"
      ]
    },
    {
      "cell_type": "code",
      "metadata": {
        "id": "oIJZSvAi4WM4",
        "colab_type": "code",
        "outputId": "57f4b9d4-398a-4bcf-a5ec-923056e2d88a",
        "colab": {
          "base_uri": "https://localhost:8080/",
          "height": 122
        }
      },
      "source": [
        "from google.colab import drive\n",
        "drive.mount('/content/drive')"
      ],
      "execution_count": 0,
      "outputs": [
        {
          "output_type": "stream",
          "text": [
            "Go to this URL in a browser: https://accounts.google.com/o/oauth2/auth?client_id=947318989803-6bn6qk8qdgf4n4g3pfee6491hc0brc4i.apps.googleusercontent.com&redirect_uri=urn%3Aietf%3Awg%3Aoauth%3A2.0%3Aoob&scope=email%20https%3A%2F%2Fwww.googleapis.com%2Fauth%2Fdocs.test%20https%3A%2F%2Fwww.googleapis.com%2Fauth%2Fdrive%20https%3A%2F%2Fwww.googleapis.com%2Fauth%2Fdrive.photos.readonly%20https%3A%2F%2Fwww.googleapis.com%2Fauth%2Fpeopleapi.readonly&response_type=code\n",
            "\n",
            "Enter your authorization code:\n",
            "··········\n",
            "Mounted at /content/drive\n"
          ],
          "name": "stdout"
        }
      ]
    },
    {
      "cell_type": "code",
      "metadata": {
        "id": "3eRUUTtcjCVD",
        "colab_type": "code",
        "colab": {}
      },
      "source": [
        "model.save(\"drive/My Drive/model470.h5\")"
      ],
      "execution_count": 0,
      "outputs": []
    }
  ]
}